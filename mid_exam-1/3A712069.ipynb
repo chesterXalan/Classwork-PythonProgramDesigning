{
 "cells": [
  {
   "cell_type": "code",
   "execution_count": 1,
   "metadata": {},
   "outputs": [],
   "source": [
    "import numpy as np\n",
    "import json\n",
    "import matplotlib.pyplot as plt\n",
    "import urllib.request as request"
   ]
  },
  {
   "cell_type": "markdown",
   "metadata": {},
   "source": [
    "# (1) 獲得全台 PM2.5 測站資料之 JSON 格式資料，並顯示之。"
   ]
  },
  {
   "cell_type": "code",
   "execution_count": 2,
   "metadata": {
    "scrolled": true
   },
   "outputs": [
    {
     "name": "stdout",
     "output_type": "stream",
     "text": [
      "[{'Site': '富貴角', 'county': '新北市', 'PM25': '22', 'DataCreationDate': '2020-03-15 17:00', 'ItemUnit': 'μg/m3'}, {'Site': '麥寮', 'county': '雲林縣', 'PM25': '21', 'DataCreationDate': '2020-03-15 17:00', 'ItemUnit': 'μg/m3'}, {'Site': '關山', 'county': '臺東縣', 'PM25': '15', 'DataCreationDate': '2020-03-15 17:00', 'ItemUnit': 'μg/m3'}, {'Site': '馬公', 'county': '澎湖縣', 'PM25': '18', 'DataCreationDate': '2020-03-15 16:00', 'ItemUnit': 'μg/m3'}, {'Site': '金門', 'county': '金門縣', 'PM25': '25', 'DataCreationDate': '2020-03-15 17:00', 'ItemUnit': 'μg/m3'}, {'Site': '馬祖', 'county': '連江縣', 'PM25': '24', 'DataCreationDate': '2020-03-15 17:00', 'ItemUnit': 'μg/m3'}, {'Site': '埔里', 'county': '南投縣', 'PM25': '14', 'DataCreationDate': '2020-03-15 17:00', 'ItemUnit': 'μg/m3'}, {'Site': '復興', 'county': '高雄市', 'PM25': '20', 'DataCreationDate': '2020-03-15 17:00', 'ItemUnit': 'μg/m3'}, {'Site': '永和', 'county': '新北市', 'PM25': '19', 'DataCreationDate': '2020-03-15 17:00', 'ItemUnit': 'μg/m3'}, {'Site': '竹山', 'county': '南投縣', 'PM25': '27', 'DataCreationDate': '2020-03-15 17:00', 'ItemUnit': 'μg/m3'}, {'Site': '中壢', 'county': '桃園市', 'PM25': '20', 'DataCreationDate': '2020-03-15 17:00', 'ItemUnit': 'μg/m3'}, {'Site': '三重', 'county': '新北市', 'PM25': '24', 'DataCreationDate': '2020-03-15 17:00', 'ItemUnit': 'μg/m3'}, {'Site': '冬山', 'county': '宜蘭縣', 'PM25': '21', 'DataCreationDate': '2020-03-15 17:00', 'ItemUnit': 'μg/m3'}, {'Site': '宜蘭', 'county': '宜蘭縣', 'PM25': '15', 'DataCreationDate': '2020-03-15 17:00', 'ItemUnit': 'μg/m3'}, {'Site': '陽明', 'county': '臺北市', 'PM25': '19', 'DataCreationDate': '2020-03-15 17:00', 'ItemUnit': 'μg/m3'}, {'Site': '花蓮', 'county': '花蓮縣', 'PM25': '21', 'DataCreationDate': '2020-03-15 17:00', 'ItemUnit': 'μg/m3'}, {'Site': '臺東', 'county': '臺東縣', 'PM25': '15', 'DataCreationDate': '2020-03-15 17:00', 'ItemUnit': 'μg/m3'}, {'Site': '恆春', 'county': '屏東縣', 'PM25': '15', 'DataCreationDate': '2020-03-15 17:00', 'ItemUnit': 'μg/m3'}, {'Site': '潮州', 'county': '屏東縣', 'PM25': '13', 'DataCreationDate': '2020-03-15 17:00', 'ItemUnit': 'μg/m3'}, {'Site': '屏東', 'county': '屏東縣', 'PM25': '22', 'DataCreationDate': '2020-03-15 17:00', 'ItemUnit': 'μg/m3'}, {'Site': '小港', 'county': '高雄市', 'PM25': '19', 'DataCreationDate': '2020-03-15 17:00', 'ItemUnit': 'μg/m3'}, {'Site': '前鎮', 'county': '高雄市', 'PM25': '23', 'DataCreationDate': '2020-03-15 17:00', 'ItemUnit': 'μg/m3'}, {'Site': '前金', 'county': '高雄市', 'PM25': '19', 'DataCreationDate': '2020-03-15 17:00', 'ItemUnit': 'μg/m3'}, {'Site': '左營', 'county': '高雄市', 'PM25': '21', 'DataCreationDate': '2020-03-15 17:00', 'ItemUnit': 'μg/m3'}, {'Site': '楠梓', 'county': '高雄市', 'PM25': '22', 'DataCreationDate': '2020-03-15 17:00', 'ItemUnit': 'μg/m3'}, {'Site': '林園', 'county': '高雄市', 'PM25': '11', 'DataCreationDate': '2020-03-15 17:00', 'ItemUnit': 'μg/m3'}, {'Site': '大寮', 'county': '高雄市', 'PM25': '18', 'DataCreationDate': '2020-03-15 17:00', 'ItemUnit': 'μg/m3'}, {'Site': '關山', 'county': '臺東縣', 'PM25': '15', 'DataCreationDate': '2020-03-15 17:00', 'ItemUnit': 'μg/m3'}, {'Site': '富貴角', 'county': '新北市', 'PM25': '22', 'DataCreationDate': '2020-03-15 17:00', 'ItemUnit': 'μg/m3'}, {'Site': '麥寮', 'county': '雲林縣', 'PM25': '21', 'DataCreationDate': '2020-03-15 17:00', 'ItemUnit': 'μg/m3'}, {'Site': '關山', 'county': '臺東縣', 'PM25': '15', 'DataCreationDate': '2020-03-15 17:00', 'ItemUnit': 'μg/m3'}, {'Site': '馬公', 'county': '澎湖縣', 'PM25': '18', 'DataCreationDate': '2020-03-15 16:00', 'ItemUnit': 'μg/m3'}, {'Site': '金門', 'county': '金門縣', 'PM25': '25', 'DataCreationDate': '2020-03-15 17:00', 'ItemUnit': 'μg/m3'}, {'Site': '馬祖', 'county': '連江縣', 'PM25': '24', 'DataCreationDate': '2020-03-15 17:00', 'ItemUnit': 'μg/m3'}, {'Site': '中壢', 'county': '桃園市', 'PM25': '20', 'DataCreationDate': '2020-03-15 17:00', 'ItemUnit': 'μg/m3'}, {'Site': '三重', 'county': '新北市', 'PM25': '24', 'DataCreationDate': '2020-03-15 17:00', 'ItemUnit': 'μg/m3'}, {'Site': '冬山', 'county': '宜蘭縣', 'PM25': '21', 'DataCreationDate': '2020-03-15 17:00', 'ItemUnit': 'μg/m3'}, {'Site': '宜蘭', 'county': '宜蘭縣', 'PM25': '15', 'DataCreationDate': '2020-03-15 17:00', 'ItemUnit': 'μg/m3'}, {'Site': '陽明', 'county': '臺北市', 'PM25': '19', 'DataCreationDate': '2020-03-15 17:00', 'ItemUnit': 'μg/m3'}, {'Site': '仁武', 'county': '高雄市', 'PM25': '24', 'DataCreationDate': '2020-03-15 17:00', 'ItemUnit': 'μg/m3'}, {'Site': '橋頭', 'county': '高雄市', 'PM25': '21', 'DataCreationDate': '2020-03-15 17:00', 'ItemUnit': 'μg/m3'}, {'Site': '美濃', 'county': '高雄市', 'PM25': '23', 'DataCreationDate': '2020-03-15 17:00', 'ItemUnit': 'μg/m3'}, {'Site': '臺南', 'county': '臺南市', 'PM25': '23', 'DataCreationDate': '2020-03-15 17:00', 'ItemUnit': 'μg/m3'}, {'Site': '安南', 'county': '臺南市', 'PM25': '28', 'DataCreationDate': '2020-03-15 17:00', 'ItemUnit': 'μg/m3'}, {'Site': '善化', 'county': '臺南市', 'PM25': '25', 'DataCreationDate': '2020-03-15 17:00', 'ItemUnit': 'μg/m3'}, {'Site': '新營', 'county': '臺南市', 'PM25': '26', 'DataCreationDate': '2020-03-15 17:00', 'ItemUnit': 'μg/m3'}, {'Site': '嘉義', 'county': '嘉義市', 'PM25': '24', 'DataCreationDate': '2020-03-15 17:00', 'ItemUnit': 'μg/m3'}, {'Site': '臺西', 'county': '雲林縣', 'PM25': '25', 'DataCreationDate': '2020-03-15 17:00', 'ItemUnit': 'μg/m3'}, {'Site': '朴子', 'county': '嘉義縣', 'PM25': '29', 'DataCreationDate': '2020-03-15 17:00', 'ItemUnit': 'μg/m3'}, {'Site': '新港', 'county': '嘉義縣', 'PM25': '25', 'DataCreationDate': '2020-03-15 17:00', 'ItemUnit': 'μg/m3'}, {'Site': '崙背', 'county': '雲林縣', 'PM25': '32', 'DataCreationDate': '2020-03-15 17:00', 'ItemUnit': 'μg/m3'}, {'Site': '斗六', 'county': '雲林縣', 'PM25': '23', 'DataCreationDate': '2020-03-15 17:00', 'ItemUnit': 'μg/m3'}, {'Site': '南投', 'county': '南投縣', 'PM25': '23', 'DataCreationDate': '2020-03-15 17:00', 'ItemUnit': 'μg/m3'}, {'Site': '二林', 'county': '彰化縣', 'PM25': '21', 'DataCreationDate': '2020-03-15 17:00', 'ItemUnit': 'μg/m3'}, {'Site': '線西', 'county': '彰化縣', 'PM25': '26', 'DataCreationDate': '2020-03-15 17:00', 'ItemUnit': 'μg/m3'}, {'Site': '彰化', 'county': '彰化縣', 'PM25': '22', 'DataCreationDate': '2020-03-15 17:00', 'ItemUnit': 'μg/m3'}, {'Site': '西屯', 'county': '臺中市', 'PM25': '21', 'DataCreationDate': '2020-03-15 17:00', 'ItemUnit': 'μg/m3'}, {'Site': '忠明', 'county': '臺中市', 'PM25': '27', 'DataCreationDate': '2020-03-15 17:00', 'ItemUnit': 'μg/m3'}, {'Site': '大里', 'county': '臺中市', 'PM25': '27', 'DataCreationDate': '2020-03-15 17:00', 'ItemUnit': 'μg/m3'}, {'Site': '沙鹿', 'county': '臺中市', 'PM25': '25', 'DataCreationDate': '2020-03-15 17:00', 'ItemUnit': 'μg/m3'}, {'Site': '豐原', 'county': '臺中市', 'PM25': '27', 'DataCreationDate': '2020-03-15 17:00', 'ItemUnit': 'μg/m3'}, {'Site': '三義', 'county': '苗栗縣', 'PM25': '25', 'DataCreationDate': '2020-03-15 17:00', 'ItemUnit': 'μg/m3'}, {'Site': '苗栗', 'county': '苗栗縣', 'PM25': '21', 'DataCreationDate': '2020-03-15 17:00', 'ItemUnit': 'μg/m3'}, {'Site': '頭份', 'county': '苗栗縣', 'PM25': '24', 'DataCreationDate': '2020-03-15 17:00', 'ItemUnit': 'μg/m3'}, {'Site': '新竹', 'county': '新竹市', 'PM25': '19', 'DataCreationDate': '2020-03-15 17:00', 'ItemUnit': 'μg/m3'}, {'Site': '竹東', 'county': '新竹縣', 'PM25': '19', 'DataCreationDate': '2020-03-15 17:00', 'ItemUnit': 'μg/m3'}, {'Site': '湖口', 'county': '新竹縣', 'PM25': '21', 'DataCreationDate': '2020-03-15 17:00', 'ItemUnit': 'μg/m3'}, {'Site': '龍潭', 'county': '桃園市', 'PM25': '18', 'DataCreationDate': '2020-03-15 17:00', 'ItemUnit': 'μg/m3'}, {'Site': '平鎮', 'county': '桃園市', 'PM25': '17', 'DataCreationDate': '2020-03-15 17:00', 'ItemUnit': 'μg/m3'}, {'Site': '崙背', 'county': '雲林縣', 'PM25': '32', 'DataCreationDate': '2020-03-15 17:00', 'ItemUnit': 'μg/m3'}, {'Site': '富貴角', 'county': '新北市', 'PM25': '22', 'DataCreationDate': '2020-03-15 17:00', 'ItemUnit': 'μg/m3'}, {'Site': '麥寮', 'county': '雲林縣', 'PM25': '21', 'DataCreationDate': '2020-03-15 17:00', 'ItemUnit': 'μg/m3'}, {'Site': '關山', 'county': '臺東縣', 'PM25': '15', 'DataCreationDate': '2020-03-15 17:00', 'ItemUnit': 'μg/m3'}, {'Site': '馬公', 'county': '澎湖縣', 'PM25': '18', 'DataCreationDate': '2020-03-15 16:00', 'ItemUnit': 'μg/m3'}, {'Site': '金門', 'county': '金門縣', 'PM25': '25', 'DataCreationDate': '2020-03-15 17:00', 'ItemUnit': 'μg/m3'}, {'Site': '馬祖', 'county': '連江縣', 'PM25': '24', 'DataCreationDate': '2020-03-15 17:00', 'ItemUnit': 'μg/m3'}, {'Site': '埔里', 'county': '南投縣', 'PM25': '14', 'DataCreationDate': '2020-03-15 17:00', 'ItemUnit': 'μg/m3'}, {'Site': '復興', 'county': '高雄市', 'PM25': '20', 'DataCreationDate': '2020-03-15 17:00', 'ItemUnit': 'μg/m3'}, {'Site': '永和', 'county': '新北市', 'PM25': '19', 'DataCreationDate': '2020-03-15 17:00', 'ItemUnit': 'μg/m3'}, {'Site': '竹山', 'county': '南投縣', 'PM25': '27', 'DataCreationDate': '2020-03-15 17:00', 'ItemUnit': 'μg/m3'}, {'Site': '中壢', 'county': '桃園市', 'PM25': '20', 'DataCreationDate': '2020-03-15 17:00', 'ItemUnit': 'μg/m3'}, {'Site': '三重', 'county': '新北市', 'PM25': '24', 'DataCreationDate': '2020-03-15 17:00', 'ItemUnit': 'μg/m3'}, {'Site': '冬山', 'county': '宜蘭縣', 'PM25': '21', 'DataCreationDate': '2020-03-15 17:00', 'ItemUnit': 'μg/m3'}, {'Site': '宜蘭', 'county': '宜蘭縣', 'PM25': '15', 'DataCreationDate': '2020-03-15 17:00', 'ItemUnit': 'μg/m3'}, {'Site': '陽明', 'county': '臺北市', 'PM25': '19', 'DataCreationDate': '2020-03-15 17:00', 'ItemUnit': 'μg/m3'}, {'Site': '花蓮', 'county': '花蓮縣', 'PM25': '21', 'DataCreationDate': '2020-03-15 17:00', 'ItemUnit': 'μg/m3'}, {'Site': '臺東', 'county': '臺東縣', 'PM25': '15', 'DataCreationDate': '2020-03-15 17:00', 'ItemUnit': 'μg/m3'}, {'Site': '恆春', 'county': '屏東縣', 'PM25': '15', 'DataCreationDate': '2020-03-15 17:00', 'ItemUnit': 'μg/m3'}, {'Site': '潮州', 'county': '屏東縣', 'PM25': '13', 'DataCreationDate': '2020-03-15 17:00', 'ItemUnit': 'μg/m3'}, {'Site': '屏東', 'county': '屏東縣', 'PM25': '22', 'DataCreationDate': '2020-03-15 17:00', 'ItemUnit': 'μg/m3'}, {'Site': '小港', 'county': '高雄市', 'PM25': '19', 'DataCreationDate': '2020-03-15 17:00', 'ItemUnit': 'μg/m3'}, {'Site': '前鎮', 'county': '高雄市', 'PM25': '23', 'DataCreationDate': '2020-03-15 17:00', 'ItemUnit': 'μg/m3'}, {'Site': '前金', 'county': '高雄市', 'PM25': '19', 'DataCreationDate': '2020-03-15 17:00', 'ItemUnit': 'μg/m3'}, {'Site': '左營', 'county': '高雄市', 'PM25': '21', 'DataCreationDate': '2020-03-15 17:00', 'ItemUnit': 'μg/m3'}, {'Site': '楠梓', 'county': '高雄市', 'PM25': '22', 'DataCreationDate': '2020-03-15 17:00', 'ItemUnit': 'μg/m3'}, {'Site': '林園', 'county': '高雄市', 'PM25': '11', 'DataCreationDate': '2020-03-15 17:00', 'ItemUnit': 'μg/m3'}, {'Site': '大寮', 'county': '高雄市', 'PM25': '18', 'DataCreationDate': '2020-03-15 17:00', 'ItemUnit': 'μg/m3'}, {'Site': '鳳山', 'county': '高雄市', 'PM25': '19', 'DataCreationDate': '2020-03-15 17:00', 'ItemUnit': 'μg/m3'}, {'Site': '仁武', 'county': '高雄市', 'PM25': '24', 'DataCreationDate': '2020-03-15 17:00', 'ItemUnit': 'μg/m3'}, {'Site': '橋頭', 'county': '高雄市', 'PM25': '21', 'DataCreationDate': '2020-03-15 17:00', 'ItemUnit': 'μg/m3'}, {'Site': '美濃', 'county': '高雄市', 'PM25': '23', 'DataCreationDate': '2020-03-15 17:00', 'ItemUnit': 'μg/m3'}, {'Site': '臺南', 'county': '臺南市', 'PM25': '23', 'DataCreationDate': '2020-03-15 17:00', 'ItemUnit': 'μg/m3'}, {'Site': '安南', 'county': '臺南市', 'PM25': '28', 'DataCreationDate': '2020-03-15 17:00', 'ItemUnit': 'μg/m3'}, {'Site': '善化', 'county': '臺南市', 'PM25': '25', 'DataCreationDate': '2020-03-15 17:00', 'ItemUnit': 'μg/m3'}, {'Site': '新營', 'county': '臺南市', 'PM25': '26', 'DataCreationDate': '2020-03-15 17:00', 'ItemUnit': 'μg/m3'}, {'Site': '嘉義', 'county': '嘉義市', 'PM25': '24', 'DataCreationDate': '2020-03-15 17:00', 'ItemUnit': 'μg/m3'}, {'Site': '臺西', 'county': '雲林縣', 'PM25': '25', 'DataCreationDate': '2020-03-15 17:00', 'ItemUnit': 'μg/m3'}, {'Site': '朴子', 'county': '嘉義縣', 'PM25': '29', 'DataCreationDate': '2020-03-15 17:00', 'ItemUnit': 'μg/m3'}, {'Site': '新港', 'county': '嘉義縣', 'PM25': '25', 'DataCreationDate': '2020-03-15 17:00', 'ItemUnit': 'μg/m3'}, {'Site': '測站（試運轉）', 'county': '雲林縣', 'PM25': '6', 'DataCreationDate': '2019-01-02 09:00', 'ItemUnit': 'μg/m3'}, {'Site': '斗六', 'county': '雲林縣', 'PM25': '23', 'DataCreationDate': '2020-03-15 17:00', 'ItemUnit': 'μg/m3'}, {'Site': '南投', 'county': '南投縣', 'PM25': '23', 'DataCreationDate': '2020-03-15 17:00', 'ItemUnit': 'μg/m3'}, {'Site': '二林', 'county': '彰化縣', 'PM25': '21', 'DataCreationDate': '2020-03-15 17:00', 'ItemUnit': 'μg/m3'}, {'Site': '線西', 'county': '彰化縣', 'PM25': '26', 'DataCreationDate': '2020-03-15 17:00', 'ItemUnit': 'μg/m3'}, {'Site': '彰化', 'county': '彰化縣', 'PM25': '22', 'DataCreationDate': '2020-03-15 17:00', 'ItemUnit': 'μg/m3'}, {'Site': '西屯', 'county': '臺中市', 'PM25': '21', 'DataCreationDate': '2020-03-15 17:00', 'ItemUnit': 'μg/m3'}, {'Site': '忠明', 'county': '臺中市', 'PM25': '27', 'DataCreationDate': '2020-03-15 17:00', 'ItemUnit': 'μg/m3'}, {'Site': '大里', 'county': '臺中市', 'PM25': '27', 'DataCreationDate': '2020-03-15 17:00', 'ItemUnit': 'μg/m3'}, {'Site': '沙鹿', 'county': '臺中市', 'PM25': '25', 'DataCreationDate': '2020-03-15 17:00', 'ItemUnit': 'μg/m3'}, {'Site': '豐原', 'county': '臺中市', 'PM25': '27', 'DataCreationDate': '2020-03-15 17:00', 'ItemUnit': 'μg/m3'}, {'Site': '三義', 'county': '苗栗縣', 'PM25': '25', 'DataCreationDate': '2020-03-15 17:00', 'ItemUnit': 'μg/m3'}, {'Site': '苗栗', 'county': '苗栗縣', 'PM25': '21', 'DataCreationDate': '2020-03-15 17:00', 'ItemUnit': 'μg/m3'}, {'Site': '頭份', 'county': '苗栗縣', 'PM25': '24', 'DataCreationDate': '2020-03-15 17:00', 'ItemUnit': 'μg/m3'}, {'Site': '新竹', 'county': '新竹市', 'PM25': '19', 'DataCreationDate': '2020-03-15 17:00', 'ItemUnit': 'μg/m3'}, {'Site': '竹東', 'county': '新竹縣', 'PM25': '19', 'DataCreationDate': '2020-03-15 17:00', 'ItemUnit': 'μg/m3'}, {'Site': '湖口', 'county': '新竹縣', 'PM25': '21', 'DataCreationDate': '2020-03-15 17:00', 'ItemUnit': 'μg/m3'}, {'Site': '龍潭', 'county': '桃園市', 'PM25': '18', 'DataCreationDate': '2020-03-15 17:00', 'ItemUnit': 'μg/m3'}, {'Site': '平鎮', 'county': '桃園市', 'PM25': '17', 'DataCreationDate': '2020-03-15 17:00', 'ItemUnit': 'μg/m3'}, {'Site': '觀音', 'county': '桃園市', 'PM25': '22', 'DataCreationDate': '2020-03-15 17:00', 'ItemUnit': 'μg/m3'}, {'Site': '大園', 'county': '桃園市', 'PM25': '20', 'DataCreationDate': '2020-03-15 17:00', 'ItemUnit': 'μg/m3'}, {'Site': '桃園', 'county': '桃園市', 'PM25': '20', 'DataCreationDate': '2020-03-15 17:00', 'ItemUnit': 'μg/m3'}, {'Site': '大同', 'county': '臺北市', 'PM25': '19', 'DataCreationDate': '2020-03-15 17:00', 'ItemUnit': 'μg/m3'}, {'Site': '松山', 'county': '臺北市', 'PM25': '22', 'DataCreationDate': '2020-03-15 17:00', 'ItemUnit': 'μg/m3'}, {'Site': '古亭', 'county': '臺北市', 'PM25': '18', 'DataCreationDate': '2020-03-15 17:00', 'ItemUnit': 'μg/m3'}, {'Site': '萬華', 'county': '臺北市', 'PM25': '20', 'DataCreationDate': '2020-03-15 17:00', 'ItemUnit': 'μg/m3'}, {'Site': '中山', 'county': '臺北市', 'PM25': '21', 'DataCreationDate': '2020-03-15 17:00', 'ItemUnit': 'μg/m3'}, {'Site': '士林', 'county': '臺北市', 'PM25': '21', 'DataCreationDate': '2020-03-15 17:00', 'ItemUnit': 'μg/m3'}, {'Site': '淡水', 'county': '新北市', 'PM25': '15', 'DataCreationDate': '2020-03-15 17:00', 'ItemUnit': 'μg/m3'}, {'Site': '林口', 'county': '新北市', 'PM25': '18', 'DataCreationDate': '2020-03-15 17:00', 'ItemUnit': 'μg/m3'}, {'Site': '菜寮', 'county': '新北市', 'PM25': '22', 'DataCreationDate': '2020-03-15 17:00', 'ItemUnit': 'μg/m3'}, {'Site': '新莊', 'county': '新北市', 'PM25': '21', 'DataCreationDate': '2020-03-15 17:00', 'ItemUnit': 'μg/m3'}, {'Site': '板橋', 'county': '新北市', 'PM25': '20', 'DataCreationDate': '2020-03-15 17:00', 'ItemUnit': 'μg/m3'}, {'Site': '土城', 'county': '新北市', 'PM25': '19', 'DataCreationDate': '2020-03-15 17:00', 'ItemUnit': 'μg/m3'}, {'Site': '新店', 'county': '新北市', 'PM25': '17', 'DataCreationDate': '2020-03-15 17:00', 'ItemUnit': 'μg/m3'}, {'Site': '萬里', 'county': '新北市', 'PM25': '21', 'DataCreationDate': '2020-03-15 17:00', 'ItemUnit': 'μg/m3'}, {'Site': '汐止', 'county': '新北市', 'PM25': '19', 'DataCreationDate': '2020-03-15 17:00', 'ItemUnit': 'μg/m3'}, {'Site': '基隆', 'county': '基隆市', 'PM25': '16', 'DataCreationDate': '2020-03-15 17:00', 'ItemUnit': 'μg/m3'}]\n"
     ]
    }
   ],
   "source": [
    "url = 'https://quality.data.gov.tw/dq_download_json.php?nid=34827&md5_url=19d6f5b54fec2ea055520bdece86c1eb'\n",
    "\n",
    "with request.urlopen(url) as response:\n",
    "    data = json.load(response)\n",
    "\n",
    "print(data)"
   ]
  },
  {
   "cell_type": "markdown",
   "metadata": {},
   "source": [
    "# (2) 分析 JSON 格式後，列出所有測站資料，顯示格式如：縣市、測站點、PM2.5 值、日期。"
   ]
  },
  {
   "cell_type": "code",
   "execution_count": 3,
   "metadata": {
    "scrolled": true
   },
   "outputs": [
    {
     "name": "stdout",
     "output_type": "stream",
     "text": [
      "新北市　富貴角 ： PM2.5 = 22　時間：2020-03-15 17:00\n",
      "雲林縣　麥寮 ： PM2.5 = 21　時間：2020-03-15 17:00\n",
      "臺東縣　關山 ： PM2.5 = 15　時間：2020-03-15 17:00\n",
      "澎湖縣　馬公 ： PM2.5 = 18　時間：2020-03-15 16:00\n",
      "金門縣　金門 ： PM2.5 = 25　時間：2020-03-15 17:00\n",
      "連江縣　馬祖 ： PM2.5 = 24　時間：2020-03-15 17:00\n",
      "南投縣　埔里 ： PM2.5 = 14　時間：2020-03-15 17:00\n",
      "高雄市　復興 ： PM2.5 = 20　時間：2020-03-15 17:00\n",
      "新北市　永和 ： PM2.5 = 19　時間：2020-03-15 17:00\n",
      "南投縣　竹山 ： PM2.5 = 27　時間：2020-03-15 17:00\n",
      "桃園市　中壢 ： PM2.5 = 20　時間：2020-03-15 17:00\n",
      "新北市　三重 ： PM2.5 = 24　時間：2020-03-15 17:00\n",
      "宜蘭縣　冬山 ： PM2.5 = 21　時間：2020-03-15 17:00\n",
      "宜蘭縣　宜蘭 ： PM2.5 = 15　時間：2020-03-15 17:00\n",
      "臺北市　陽明 ： PM2.5 = 19　時間：2020-03-15 17:00\n",
      "花蓮縣　花蓮 ： PM2.5 = 21　時間：2020-03-15 17:00\n",
      "臺東縣　臺東 ： PM2.5 = 15　時間：2020-03-15 17:00\n",
      "屏東縣　恆春 ： PM2.5 = 15　時間：2020-03-15 17:00\n",
      "屏東縣　潮州 ： PM2.5 = 13　時間：2020-03-15 17:00\n",
      "屏東縣　屏東 ： PM2.5 = 22　時間：2020-03-15 17:00\n",
      "高雄市　小港 ： PM2.5 = 19　時間：2020-03-15 17:00\n",
      "高雄市　前鎮 ： PM2.5 = 23　時間：2020-03-15 17:00\n",
      "高雄市　前金 ： PM2.5 = 19　時間：2020-03-15 17:00\n",
      "高雄市　左營 ： PM2.5 = 21　時間：2020-03-15 17:00\n",
      "高雄市　楠梓 ： PM2.5 = 22　時間：2020-03-15 17:00\n",
      "高雄市　林園 ： PM2.5 = 11　時間：2020-03-15 17:00\n",
      "高雄市　大寮 ： PM2.5 = 18　時間：2020-03-15 17:00\n",
      "臺東縣　關山 ： PM2.5 = 15　時間：2020-03-15 17:00\n",
      "新北市　富貴角 ： PM2.5 = 22　時間：2020-03-15 17:00\n",
      "雲林縣　麥寮 ： PM2.5 = 21　時間：2020-03-15 17:00\n",
      "臺東縣　關山 ： PM2.5 = 15　時間：2020-03-15 17:00\n",
      "澎湖縣　馬公 ： PM2.5 = 18　時間：2020-03-15 16:00\n",
      "金門縣　金門 ： PM2.5 = 25　時間：2020-03-15 17:00\n",
      "連江縣　馬祖 ： PM2.5 = 24　時間：2020-03-15 17:00\n",
      "桃園市　中壢 ： PM2.5 = 20　時間：2020-03-15 17:00\n",
      "新北市　三重 ： PM2.5 = 24　時間：2020-03-15 17:00\n",
      "宜蘭縣　冬山 ： PM2.5 = 21　時間：2020-03-15 17:00\n",
      "宜蘭縣　宜蘭 ： PM2.5 = 15　時間：2020-03-15 17:00\n",
      "臺北市　陽明 ： PM2.5 = 19　時間：2020-03-15 17:00\n",
      "高雄市　仁武 ： PM2.5 = 24　時間：2020-03-15 17:00\n",
      "高雄市　橋頭 ： PM2.5 = 21　時間：2020-03-15 17:00\n",
      "高雄市　美濃 ： PM2.5 = 23　時間：2020-03-15 17:00\n",
      "臺南市　臺南 ： PM2.5 = 23　時間：2020-03-15 17:00\n",
      "臺南市　安南 ： PM2.5 = 28　時間：2020-03-15 17:00\n",
      "臺南市　善化 ： PM2.5 = 25　時間：2020-03-15 17:00\n",
      "臺南市　新營 ： PM2.5 = 26　時間：2020-03-15 17:00\n",
      "嘉義市　嘉義 ： PM2.5 = 24　時間：2020-03-15 17:00\n",
      "雲林縣　臺西 ： PM2.5 = 25　時間：2020-03-15 17:00\n",
      "嘉義縣　朴子 ： PM2.5 = 29　時間：2020-03-15 17:00\n",
      "嘉義縣　新港 ： PM2.5 = 25　時間：2020-03-15 17:00\n",
      "雲林縣　崙背 ： PM2.5 = 32　時間：2020-03-15 17:00\n",
      "雲林縣　斗六 ： PM2.5 = 23　時間：2020-03-15 17:00\n",
      "南投縣　南投 ： PM2.5 = 23　時間：2020-03-15 17:00\n",
      "彰化縣　二林 ： PM2.5 = 21　時間：2020-03-15 17:00\n",
      "彰化縣　線西 ： PM2.5 = 26　時間：2020-03-15 17:00\n",
      "彰化縣　彰化 ： PM2.5 = 22　時間：2020-03-15 17:00\n",
      "臺中市　西屯 ： PM2.5 = 21　時間：2020-03-15 17:00\n",
      "臺中市　忠明 ： PM2.5 = 27　時間：2020-03-15 17:00\n",
      "臺中市　大里 ： PM2.5 = 27　時間：2020-03-15 17:00\n",
      "臺中市　沙鹿 ： PM2.5 = 25　時間：2020-03-15 17:00\n",
      "臺中市　豐原 ： PM2.5 = 27　時間：2020-03-15 17:00\n",
      "苗栗縣　三義 ： PM2.5 = 25　時間：2020-03-15 17:00\n",
      "苗栗縣　苗栗 ： PM2.5 = 21　時間：2020-03-15 17:00\n",
      "苗栗縣　頭份 ： PM2.5 = 24　時間：2020-03-15 17:00\n",
      "新竹市　新竹 ： PM2.5 = 19　時間：2020-03-15 17:00\n",
      "新竹縣　竹東 ： PM2.5 = 19　時間：2020-03-15 17:00\n",
      "新竹縣　湖口 ： PM2.5 = 21　時間：2020-03-15 17:00\n",
      "桃園市　龍潭 ： PM2.5 = 18　時間：2020-03-15 17:00\n",
      "桃園市　平鎮 ： PM2.5 = 17　時間：2020-03-15 17:00\n",
      "雲林縣　崙背 ： PM2.5 = 32　時間：2020-03-15 17:00\n",
      "新北市　富貴角 ： PM2.5 = 22　時間：2020-03-15 17:00\n",
      "雲林縣　麥寮 ： PM2.5 = 21　時間：2020-03-15 17:00\n",
      "臺東縣　關山 ： PM2.5 = 15　時間：2020-03-15 17:00\n",
      "澎湖縣　馬公 ： PM2.5 = 18　時間：2020-03-15 16:00\n",
      "金門縣　金門 ： PM2.5 = 25　時間：2020-03-15 17:00\n",
      "連江縣　馬祖 ： PM2.5 = 24　時間：2020-03-15 17:00\n",
      "南投縣　埔里 ： PM2.5 = 14　時間：2020-03-15 17:00\n",
      "高雄市　復興 ： PM2.5 = 20　時間：2020-03-15 17:00\n",
      "新北市　永和 ： PM2.5 = 19　時間：2020-03-15 17:00\n",
      "南投縣　竹山 ： PM2.5 = 27　時間：2020-03-15 17:00\n",
      "桃園市　中壢 ： PM2.5 = 20　時間：2020-03-15 17:00\n",
      "新北市　三重 ： PM2.5 = 24　時間：2020-03-15 17:00\n",
      "宜蘭縣　冬山 ： PM2.5 = 21　時間：2020-03-15 17:00\n",
      "宜蘭縣　宜蘭 ： PM2.5 = 15　時間：2020-03-15 17:00\n",
      "臺北市　陽明 ： PM2.5 = 19　時間：2020-03-15 17:00\n",
      "花蓮縣　花蓮 ： PM2.5 = 21　時間：2020-03-15 17:00\n",
      "臺東縣　臺東 ： PM2.5 = 15　時間：2020-03-15 17:00\n",
      "屏東縣　恆春 ： PM2.5 = 15　時間：2020-03-15 17:00\n",
      "屏東縣　潮州 ： PM2.5 = 13　時間：2020-03-15 17:00\n",
      "屏東縣　屏東 ： PM2.5 = 22　時間：2020-03-15 17:00\n",
      "高雄市　小港 ： PM2.5 = 19　時間：2020-03-15 17:00\n",
      "高雄市　前鎮 ： PM2.5 = 23　時間：2020-03-15 17:00\n",
      "高雄市　前金 ： PM2.5 = 19　時間：2020-03-15 17:00\n",
      "高雄市　左營 ： PM2.5 = 21　時間：2020-03-15 17:00\n",
      "高雄市　楠梓 ： PM2.5 = 22　時間：2020-03-15 17:00\n",
      "高雄市　林園 ： PM2.5 = 11　時間：2020-03-15 17:00\n",
      "高雄市　大寮 ： PM2.5 = 18　時間：2020-03-15 17:00\n",
      "高雄市　鳳山 ： PM2.5 = 19　時間：2020-03-15 17:00\n",
      "高雄市　仁武 ： PM2.5 = 24　時間：2020-03-15 17:00\n",
      "高雄市　橋頭 ： PM2.5 = 21　時間：2020-03-15 17:00\n",
      "高雄市　美濃 ： PM2.5 = 23　時間：2020-03-15 17:00\n",
      "臺南市　臺南 ： PM2.5 = 23　時間：2020-03-15 17:00\n",
      "臺南市　安南 ： PM2.5 = 28　時間：2020-03-15 17:00\n",
      "臺南市　善化 ： PM2.5 = 25　時間：2020-03-15 17:00\n",
      "臺南市　新營 ： PM2.5 = 26　時間：2020-03-15 17:00\n",
      "嘉義市　嘉義 ： PM2.5 = 24　時間：2020-03-15 17:00\n",
      "雲林縣　臺西 ： PM2.5 = 25　時間：2020-03-15 17:00\n",
      "嘉義縣　朴子 ： PM2.5 = 29　時間：2020-03-15 17:00\n",
      "嘉義縣　新港 ： PM2.5 = 25　時間：2020-03-15 17:00\n",
      "雲林縣　測站（試運轉） ： PM2.5 = 6　時間：2019-01-02 09:00\n",
      "雲林縣　斗六 ： PM2.5 = 23　時間：2020-03-15 17:00\n",
      "南投縣　南投 ： PM2.5 = 23　時間：2020-03-15 17:00\n",
      "彰化縣　二林 ： PM2.5 = 21　時間：2020-03-15 17:00\n",
      "彰化縣　線西 ： PM2.5 = 26　時間：2020-03-15 17:00\n",
      "彰化縣　彰化 ： PM2.5 = 22　時間：2020-03-15 17:00\n",
      "臺中市　西屯 ： PM2.5 = 21　時間：2020-03-15 17:00\n",
      "臺中市　忠明 ： PM2.5 = 27　時間：2020-03-15 17:00\n",
      "臺中市　大里 ： PM2.5 = 27　時間：2020-03-15 17:00\n",
      "臺中市　沙鹿 ： PM2.5 = 25　時間：2020-03-15 17:00\n",
      "臺中市　豐原 ： PM2.5 = 27　時間：2020-03-15 17:00\n",
      "苗栗縣　三義 ： PM2.5 = 25　時間：2020-03-15 17:00\n",
      "苗栗縣　苗栗 ： PM2.5 = 21　時間：2020-03-15 17:00\n",
      "苗栗縣　頭份 ： PM2.5 = 24　時間：2020-03-15 17:00\n",
      "新竹市　新竹 ： PM2.5 = 19　時間：2020-03-15 17:00\n",
      "新竹縣　竹東 ： PM2.5 = 19　時間：2020-03-15 17:00\n",
      "新竹縣　湖口 ： PM2.5 = 21　時間：2020-03-15 17:00\n",
      "桃園市　龍潭 ： PM2.5 = 18　時間：2020-03-15 17:00\n",
      "桃園市　平鎮 ： PM2.5 = 17　時間：2020-03-15 17:00\n",
      "桃園市　觀音 ： PM2.5 = 22　時間：2020-03-15 17:00\n",
      "桃園市　大園 ： PM2.5 = 20　時間：2020-03-15 17:00\n",
      "桃園市　桃園 ： PM2.5 = 20　時間：2020-03-15 17:00\n",
      "臺北市　大同 ： PM2.5 = 19　時間：2020-03-15 17:00\n",
      "臺北市　松山 ： PM2.5 = 22　時間：2020-03-15 17:00\n",
      "臺北市　古亭 ： PM2.5 = 18　時間：2020-03-15 17:00\n",
      "臺北市　萬華 ： PM2.5 = 20　時間：2020-03-15 17:00\n",
      "臺北市　中山 ： PM2.5 = 21　時間：2020-03-15 17:00\n",
      "臺北市　士林 ： PM2.5 = 21　時間：2020-03-15 17:00\n",
      "新北市　淡水 ： PM2.5 = 15　時間：2020-03-15 17:00\n",
      "新北市　林口 ： PM2.5 = 18　時間：2020-03-15 17:00\n",
      "新北市　菜寮 ： PM2.5 = 22　時間：2020-03-15 17:00\n",
      "新北市　新莊 ： PM2.5 = 21　時間：2020-03-15 17:00\n",
      "新北市　板橋 ： PM2.5 = 20　時間：2020-03-15 17:00\n",
      "新北市　土城 ： PM2.5 = 19　時間：2020-03-15 17:00\n",
      "新北市　新店 ： PM2.5 = 17　時間：2020-03-15 17:00\n",
      "新北市　萬里 ： PM2.5 = 21　時間：2020-03-15 17:00\n",
      "新北市　汐止 ： PM2.5 = 19　時間：2020-03-15 17:00\n",
      "基隆市　基隆 ： PM2.5 = 16　時間：2020-03-15 17:00\n"
     ]
    }
   ],
   "source": [
    "county, site, pm25, dataDate = [], [], [], []\n",
    "\n",
    "for i in range(len(data)):\n",
    "    county.append(data[i]['county'])\n",
    "    site.append(data[i]['Site'])\n",
    "    pm25.append(data[i]['PM25'])\n",
    "    dataDate.append(data[i]['DataCreationDate'])    \n",
    "\n",
    "for i in range(len(data)):\n",
    "    print('{}　{} ： PM2.5 = {}　時間：{}'.format(county[i], site[i], pm25[i], dataDate[i]))"
   ]
  },
  {
   "cell_type": "markdown",
   "metadata": {},
   "source": [
    "# (3) 設計可讓使用者輸入縣市名稱，而後呈現該縣市的所有測站點資料(如上顯示格式)。"
   ]
  },
  {
   "cell_type": "code",
   "execution_count": 8,
   "metadata": {},
   "outputs": [
    {
     "name": "stdout",
     "output_type": "stream",
     "text": [
      "請輸入縣市：南投縣\n",
      "南投縣　埔里 ： PM2.5 = 14　時間：2020-03-15 17:00\n",
      "南投縣　竹山 ： PM2.5 = 27　時間：2020-03-15 17:00\n",
      "南投縣　南投 ： PM2.5 = 23　時間：2020-03-15 17:00\n",
      "南投縣　埔里 ： PM2.5 = 14　時間：2020-03-15 17:00\n",
      "南投縣　竹山 ： PM2.5 = 27　時間：2020-03-15 17:00\n",
      "南投縣　南投 ： PM2.5 = 23　時間：2020-03-15 17:00\n"
     ]
    }
   ],
   "source": [
    "check = 0\n",
    "while(check == 0):\n",
    "    countyInput = input('請輸入縣市：')\n",
    "    \n",
    "    for i in range(len(data)):\n",
    "        if countyInput == county[i] :            \n",
    "            check = 1\n",
    "            print('{}　{} ： PM2.5 = {}　時間：{}'.format(county[i], site[i], pm25[i], dataDate[i]))\n",
    "    if check == 0:\n",
    "        print('查無縣市，請重新輸入\\n')"
   ]
  },
  {
   "cell_type": "markdown",
   "metadata": {},
   "source": [
    "# (4) 設計可讓使用者輸入測站點名稱，而後呈現該測站點的資料(如上顯示格式)。"
   ]
  },
  {
   "cell_type": "code",
   "execution_count": 14,
   "metadata": {},
   "outputs": [
    {
     "name": "stdout",
     "output_type": "stream",
     "text": [
      "請輸入測站點：大里\n",
      "臺中市　大里 ： PM2.5 = 27　時間：2020-03-15 17:00\n",
      "臺中市　大里 ： PM2.5 = 27　時間：2020-03-15 17:00\n"
     ]
    }
   ],
   "source": [
    "check = 0\n",
    "while(check == 0):\n",
    "    siteInput = input('請輸入測站點：')\n",
    "    \n",
    "    for i in range(len(data)):\n",
    "        if siteInput == site[i]:\n",
    "            check = 1\n",
    "            print('{}　{} ： PM2.5 = {}　時間：{}'.format(county[i], site[i], pm25[i], dataDate[i]))\n",
    "    if check == 0:\n",
    "        print('查無測站點，請重新輸入\\n')"
   ]
  },
  {
   "cell_type": "markdown",
   "metadata": {},
   "source": [
    "# (5) 可讓使用者輸入 PM2.5 值，而後呈現大於該值的所有測站資料。"
   ]
  },
  {
   "cell_type": "code",
   "execution_count": 10,
   "metadata": {
    "scrolled": true
   },
   "outputs": [
    {
     "name": "stdout",
     "output_type": "stream",
     "text": [
      "請輸入PM2.5的值：27\n",
      "南投縣　竹山 ： PM2.5 = 27　時間：2020-03-15 17:00\n",
      "臺南市　安南 ： PM2.5 = 28　時間：2020-03-15 17:00\n",
      "嘉義縣　朴子 ： PM2.5 = 29　時間：2020-03-15 17:00\n",
      "雲林縣　崙背 ： PM2.5 = 32　時間：2020-03-15 17:00\n",
      "臺中市　忠明 ： PM2.5 = 27　時間：2020-03-15 17:00\n",
      "臺中市　大里 ： PM2.5 = 27　時間：2020-03-15 17:00\n",
      "臺中市　豐原 ： PM2.5 = 27　時間：2020-03-15 17:00\n",
      "雲林縣　崙背 ： PM2.5 = 32　時間：2020-03-15 17:00\n",
      "南投縣　竹山 ： PM2.5 = 27　時間：2020-03-15 17:00\n",
      "臺南市　安南 ： PM2.5 = 28　時間：2020-03-15 17:00\n",
      "嘉義縣　朴子 ： PM2.5 = 29　時間：2020-03-15 17:00\n",
      "臺中市　忠明 ： PM2.5 = 27　時間：2020-03-15 17:00\n",
      "臺中市　大里 ： PM2.5 = 27　時間：2020-03-15 17:00\n",
      "臺中市　豐原 ： PM2.5 = 27　時間：2020-03-15 17:00\n"
     ]
    }
   ],
   "source": [
    "check = 0\n",
    "while(check == 0):\n",
    "    pm25Input = int(input('請輸入PM2.5的值：'))\n",
    "    \n",
    "    for i in range(len(data)):\n",
    "        if pm25Input <= int(pm25[i]):\n",
    "            check = 1\n",
    "            print('{}　{} ： PM2.5 = {}　時間：{}'.format(county[i], site[i], pm25[i], dataDate[i]))\n",
    "    if check == 0:\n",
    "        print('錯誤的值，請重新輸入\\n')"
   ]
  },
  {
   "cell_type": "markdown",
   "metadata": {},
   "source": [
    "# (6) 顯示測站點總數、所有測站點名稱，並將所有測站點的 PM2.5 值繪製成圖。"
   ]
  },
  {
   "cell_type": "code",
   "execution_count": 14,
   "metadata": {},
   "outputs": [
    {
     "name": "stdout",
     "output_type": "stream",
     "text": [
      "測站點總數： 147\n",
      "['富貴角', '麥寮', '關山', '馬公', '金門', '馬祖', '埔里', '復興', '永和', '竹山', '中壢', '三重', '冬山', '宜蘭', '陽明', '花蓮', '臺東', '恆春', '潮州', '屏東', '小港', '前鎮', '前金', '左營', '楠梓', '林園', '大寮', '關山', '富貴角', '麥寮', '關山', '馬公', '金門', '馬祖', '中壢', '三重', '冬山', '宜蘭', '陽明', '仁武', '橋頭', '美濃', '臺南', '安南', '善化', '新營', '嘉義', '臺西', '朴子', '新港', '崙背', '斗六', '南投', '二林', '線西', '彰化', '西屯', '忠明', '大里', '沙鹿', '豐原', '三義', '苗栗', '頭份', '新竹', '竹東', '湖口', '龍潭', '平鎮', '崙背', '富貴角', '麥寮', '關山', '馬公', '金門', '馬祖', '埔里', '復興', '永和', '竹山', '中壢', '三重', '冬山', '宜蘭', '陽明', '花蓮', '臺東', '恆春', '潮州', '屏東', '小港', '前鎮', '前金', '左營', '楠梓', '林園', '大寮', '鳳山', '仁武', '橋頭', '美濃', '臺南', '安南', '善化', '新營', '嘉義', '臺西', '朴子', '新港', '測站（試運轉）', '斗六', '南投', '二林', '線西', '彰化', '西屯', '忠明', '大里', '沙鹿', '豐原', '三義', '苗栗', '頭份', '新竹', '竹東', '湖口', '龍潭', '平鎮', '觀音', '大園', '桃園', '大同', '松山', '古亭', '萬華', '中山', '士林', '淡水', '林口', '菜寮', '新莊', '板橋', '土城', '新店', '萬里', '汐止', '基隆']\n"
     ]
    },
    {
     "data": {
      "image/png": "[encoded data removed]",
      "text/plain": [
       "<Figure size 432x288 with 1 Axes>"
      ]
     },
     "metadata": {
      "needs_background": "light"
     },
     "output_type": "display_data"
    }
   ],
   "source": [
    "print('測站點總數：', len(site))\n",
    "print(site)\n",
    "intPM25 = [int(i) for i in pm25]\n",
    "indexSite = [int(i) for i in range(len(site))]\n",
    "\n",
    "plt.plot(indexSite, intPM25, 'o')\n",
    "plt.xlabel('Site Index')\n",
    "plt.ylabel('PM2.5 Value')\n",
    "plt.show()"
   ]
  },
  {
   "cell_type": "markdown",
   "metadata": {},
   "source": [
    "# (7) 統計分析：計算出所有測站 PM2.5 值的：最大值、最小值、平均值。"
   ]
  },
  {
   "cell_type": "code",
   "execution_count": 25,
   "metadata": {},
   "outputs": [
    {
     "name": "stdout",
     "output_type": "stream",
     "text": [
      "PM2.5 最大值：32　最小值：6　平均值：21.1\n"
     ]
    }
   ],
   "source": [
    "arrayPM25 = np.array(intPM25)\n",
    "\n",
    "maxPM25 = np.max(arrayPM25)\n",
    "minPM25 = np.min(arrayPM25)\n",
    "avgPM25 = np.around(np.average(arrayPM25), decimals = 1)\n",
    "\n",
    "print('PM2.5 最大值：{}　最小值：{}　平均值：{}'.format(maxPM25, minPM25, avgPM25))"
   ]
  },
  {
   "cell_type": "markdown",
   "metadata": {},
   "source": [
    "# (8) 以縣市為單位，計算出各縣市的測站點數量、各縣市的 PM2.5 平均值。"
   ]
  },
  {
   "cell_type": "code",
   "execution_count": 27,
   "metadata": {},
   "outputs": [
    {
     "name": "stdout",
     "output_type": "stream",
     "text": [
      "臺東縣 ： 測站點數量：6　PM2.5平均值 = 22.0\n",
      "金門縣 ： 測站點數量：3　PM2.5平均值 = 21.0\n",
      "嘉義市 ： 測站點數量：2　PM2.5平均值 = 15.0\n",
      "臺北市 ： 測站點數量：9　PM2.5平均值 = 18.0\n",
      "彰化縣 ： 測站點數量：6　PM2.5平均值 = 25.0\n",
      "桃園市 ： 測站點數量：10　PM2.5平均值 = 24.0\n",
      "宜蘭縣 ： 測站點數量：6　PM2.5平均值 = 14.0\n",
      "南投縣 ： 測站點數量：6　PM2.5平均值 = 20.0\n",
      "基隆市 ： 測站點數量：1　PM2.5平均值 = 19.0\n",
      "澎湖縣 ： 測站點數量：3　PM2.5平均值 = 27.0\n",
      "苗栗縣 ： 測站點數量：6　PM2.5平均值 = 20.0\n",
      "新北市 ： 測站點數量：17　PM2.5平均值 = 24.0\n",
      "雲林縣 ： 測站點數量：10　PM2.5平均值 = 21.0\n",
      "臺中市 ： 測站點數量：10　PM2.5平均值 = 15.0\n",
      "臺南市 ： 測站點數量：8　PM2.5平均值 = 19.0\n",
      "新竹縣 ： 測站點數量：4　PM2.5平均值 = 21.0\n",
      "新竹市 ： 測站點數量：2　PM2.5平均值 = 15.0\n",
      "花蓮縣 ： 測站點數量：2　PM2.5平均值 = 15.0\n",
      "嘉義縣 ： 測站點數量：4　PM2.5平均值 = 13.0\n",
      "高雄市 ： 測站點數量：23　PM2.5平均值 = 22.0\n",
      "連江縣 ： 測站點數量：3　PM2.5平均值 = 19.0\n",
      "屏東縣 ： 測站點數量：6　PM2.5平均值 = 23.0\n"
     ]
    }
   ],
   "source": [
    "countys = list(set(county))\n",
    "cntSite, avgCyPM25 = [], []\n",
    "\n",
    "for i in range(len(countys)):\n",
    "    cnt, Sum = 0, 0\n",
    "    for j in range(len(data)):\n",
    "        if countys[i] == county[j]:\n",
    "            cnt += 1\n",
    "            Sum += intPM25[i]\n",
    "    cntSite.append(cnt)\n",
    "    avgCyPM25.append(np.around((Sum / cnt), decimals = 1))\n",
    "\n",
    "for i in range(len(countys)):\n",
    "    print('{} ： 測站點數量：{}　PM2.5平均值 = {}'.format(countys[i], cntSite[i], avgCyPM25[i]))"
   ]
  }
 ],
 "metadata": {
  "kernelspec": {
   "display_name": "Python 3",
   "language": "python",
   "name": "python3"
  },
  "language_info": {
   "codemirror_mode": {
    "name": "ipython",
    "version": 3
   },
   "file_extension": ".py",
   "mimetype": "text/x-python",
   "name": "python",
   "nbconvert_exporter": "python",
   "pygments_lexer": "ipython3",
   "version": "3.7.1"
  }
 },
 "nbformat": 4,
 "nbformat_minor": 2
}
