{
 "cells": [
  {
   "cell_type": "code",
   "execution_count": 1,
   "metadata": {},
   "outputs": [],
   "source": [
    "import numpy as np\n",
    "import matplotlib.pyplot as plt\n",
    "import json"
   ]
  },
  {
   "cell_type": "code",
   "execution_count": 48,
   "metadata": {},
   "outputs": [
    {
     "name": "stdout",
     "output_type": "stream",
     "text": [
      "[[ 1  2  3  4  5  6  7  8  9 10]\n",
      " [11 12 13 14 15 16 17 18 19 20]\n",
      " [21 22 23 24 25 26 27 28 29 30]]\n",
      "[[ 1  2  3  4  5  6  7]\n",
      " [11 12 13 14 15 16 17]]\n",
      "[[ 2  4  6  8]\n",
      " [12 14 16 18]]\n",
      "[[11 12 13 14 15 16 17 18]\n",
      " [21 22 23 24 25 26 27 28]]\n",
      "[[ 4  5]\n",
      " [24 25]]\n"
     ]
    }
   ],
   "source": [
    "a1 = np.arange(1, 31).reshape(3, 10)\n",
    "print(a1)\n",
    "print(a1[:2, :7])\n",
    "print(a1[:2, 1:8:2])\n",
    "print(a1[1:, :8])\n",
    "print(a1[(0, 2), 3:5])"
   ]
  },
  {
   "cell_type": "code",
   "execution_count": 64,
   "metadata": {},
   "outputs": [
    {
     "name": "stdout",
     "output_type": "stream",
     "text": [
      "[[1]\n",
      " [2]\n",
      " [3]] <class 'numpy.matrixlib.defmatrix.matrix'>\n",
      "[[ 2  3  4]\n",
      " [ 5  6  7]\n",
      " [ 8  9 10]]\n",
      "[[ 2  5  8]\n",
      " [ 3  6  9]\n",
      " [ 4  7 10]]\n",
      "[[36 42 48]]\n"
     ]
    }
   ],
   "source": [
    "m1 = np.matrix([1, 2, 3])\n",
    "print(m1.T, type(m1))\n",
    "m2 = np.matrix([[2, 3, 4],[5, 6, 7], [8, 9, 10]])\n",
    "print(m2)\n",
    "print(m2.T)\n",
    "m3 = m1 * m2\n",
    "print(m3)"
   ]
  },
  {
   "cell_type": "code",
   "execution_count": 97,
   "metadata": {},
   "outputs": [
    {
     "data": {
      "image/png": "[encoded data removed]",
      "text/plain": [
       "<Figure size 432x288 with 1 Axes>"
      ]
     },
     "metadata": {
      "needs_background": "light"
     },
     "output_type": "display_data"
    }
   ],
   "source": [
    "x1 = [1, 2, 3, 4, 5]\n",
    "y1 = [5, 4, 3, 2, 1]\n",
    "plt.plot(x1, y1, \"g--\", linewidth = \"2\")\n",
    "x2 = np.arange(6)\n",
    "y2 = np.exp(x2) / 30\n",
    "plt.plot(x2, y2, \"r\")\n",
    "plt.plot(np.arange(6), [3, 3, 3, 3, 3, 3], \"bo\")\n",
    "plt.show()"
   ]
  },
  {
   "cell_type": "code",
   "execution_count": 3,
   "metadata": {},
   "outputs": [
    {
     "name": "stdout",
     "output_type": "stream",
     "text": [
      "{'a': 100, 'b': 1000, 'c': 10000}\n"
     ]
    }
   ],
   "source": [
    "data = {'a': 100, 'b': 1000, 'c': 10000}\n",
    "with open('abc.json', 'w', encoding='utf-8') as f:\n",
    "    json.dump(data, f)\n",
    "    \n",
    "with open('abc.json', 'r', encoding='utf-8') as f:\n",
    "    output = json.load(f)\n",
    "print(output)"
   ]
  }
 ],
 "metadata": {
  "kernelspec": {
   "display_name": "Python 3",
   "language": "python",
   "name": "python3"
  },
  "language_info": {
   "codemirror_mode": {
    "name": "ipython",
    "version": 3
   },
   "file_extension": ".py",
   "mimetype": "text/x-python",
   "name": "python",
   "nbconvert_exporter": "python",
   "pygments_lexer": "ipython3",
   "version": "3.7.1"
  }
 },
 "nbformat": 4,
 "nbformat_minor": 2
}
