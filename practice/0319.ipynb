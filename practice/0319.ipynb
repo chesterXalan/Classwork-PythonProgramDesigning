{
 "cells": [
  {
   "cell_type": "code",
   "execution_count": 2,
   "metadata": {},
   "outputs": [
    {
     "name": "stdout",
     "output_type": "stream",
     "text": [
      "False\n"
     ]
    }
   ],
   "source": [
    "i = 21\n",
    "if i < 20:\n",
    "    print(True)\n",
    "else:\n",
    "    print(False)"
   ]
  },
  {
   "cell_type": "code",
   "execution_count": 5,
   "metadata": {},
   "outputs": [
    {
     "name": "stdout",
     "output_type": "stream",
     "text": [
      "36\n"
     ]
    }
   ],
   "source": [
    "l = 31\n",
    "if l > 30:\n",
    "    l += 5\n",
    "elif l < 20:\n",
    "    l -= 5\n",
    "else:\n",
    "    l *= 5\n",
    "\n",
    "print(l)"
   ]
  },
  {
   "cell_type": "code",
   "execution_count": 58,
   "metadata": {},
   "outputs": [
    {
     "name": "stdout",
     "output_type": "stream",
     "text": [
      "0 \t1 \t2 \t3 \t4 \t5 \t6 \t7 \t8 \t9 \t\n",
      "10\n"
     ]
    }
   ],
   "source": [
    "i = 1\n",
    "for c in range(10):\n",
    "    print(c, '\\t', end = '')\n",
    "print()\n",
    "print(i + c)"
   ]
  },
  {
   "cell_type": "code",
   "execution_count": 62,
   "metadata": {},
   "outputs": [
    {
     "name": "stdout",
     "output_type": "stream",
     "text": [
      "*\n",
      "**\n",
      "***\n",
      "****\n",
      "***\n",
      "**\n",
      "*\n"
     ]
    }
   ],
   "source": [
    "for i in range(4):\n",
    "    for j in range(i + 1):         \n",
    "        print('*', end = '')\n",
    "    print()\n",
    "\n",
    "for i in range(3):\n",
    "    for j in range(3, i, -1):\n",
    "        print('*', end = '')\n",
    "    print() "
   ]
  },
  {
   "cell_type": "code",
   "execution_count": 60,
   "metadata": {},
   "outputs": [
    {
     "name": "stdout",
     "output_type": "stream",
     "text": [
      "[123, (1, 2, 3), [1, 2, 3], 12.3, [3, 4, 5]]\n"
     ]
    }
   ],
   "source": [
    "l1 = [123, (1, 2, 3), [1, 2 , 3], 12.3]\n",
    "l1.append([3, 4, 5])\n",
    "print(l1)"
   ]
  },
  {
   "cell_type": "code",
   "execution_count": 71,
   "metadata": {},
   "outputs": [
    {
     "name": "stdout",
     "output_type": "stream",
     "text": [
      "Tuple\n",
      "List\n",
      "LiSt"
     ]
    }
   ],
   "source": [
    "t = tuple('Tuple')\n",
    "for i in t:\n",
    "    print(i, end = '')\n",
    "print()\n",
    "l = list('List')\n",
    "for n in l:\n",
    "    print(n, end = '')\n",
    "print()\n",
    "l[2] = 'S'\n",
    "for n in l:\n",
    "    print(n, end = '')"
   ]
  }
 ],
 "metadata": {
  "kernelspec": {
   "display_name": "Python 3",
   "language": "python",
   "name": "python3"
  },
  "language_info": {
   "codemirror_mode": {
    "name": "ipython",
    "version": 3
   },
   "file_extension": ".py",
   "mimetype": "text/x-python",
   "name": "python",
   "nbconvert_exporter": "python",
   "pygments_lexer": "ipython3",
   "version": "3.7.1"
  }
 },
 "nbformat": 4,
 "nbformat_minor": 2
}
