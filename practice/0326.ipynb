{
 "cells": [
  {
   "cell_type": "code",
   "execution_count": null,
   "metadata": {},
   "outputs": [],
   "source": [
    "a = {1, 2, 3, 4, 5}\n",
    "b = {4, 5, 6, 7, 8}\n",
    "\n",
    "print(type(a & b), a & b)\n",
    "print(a | b)\n",
    "print(a - b)"
   ]
  },
  {
   "cell_type": "code",
   "execution_count": 41,
   "metadata": {},
   "outputs": [
    {
     "name": "stdout",
     "output_type": "stream",
     "text": [
      "你好\n",
      "1.23\n",
      "123\n",
      "Good Morning\n",
      "dict_keys(['安安', 'abc', 'ABC', '早安'])\n"
     ]
    }
   ],
   "source": [
    "dict = {\"安安\": \"你好\", \"abc\": 123, \"ABC\": 1.23}\n",
    "print(dict[\"安安\"])\n",
    "print(dict[\"ABC\"])\n",
    "print(dict.get(\"abc\"))\n",
    "\n",
    "dict[\"早安\"] = \"Good Morning\"\n",
    "print(dict[\"早安\"])\n",
    "\n",
    "print(dict.keys())"
   ]
  },
  {
   "cell_type": "code",
   "execution_count": null,
   "metadata": {},
   "outputs": [],
   "source": [
    "lst1 = []\n",
    "for i in range(1,11):\n",
    "    lst1.append(i)\n",
    "print(lst1)\n",
    "\n",
    "print(lst1[2:8])\n",
    "print(lst1[5:])"
   ]
  },
  {
   "cell_type": "code",
   "execution_count": 6,
   "metadata": {},
   "outputs": [
    {
     "name": "stdout",
     "output_type": "stream",
     "text": [
      "隨便輸入：445安安151ef\n",
      "<class 'str'> 445安安151ef\n",
      "['4', '4', '5', '安', '安', '1', '5', '1', 'e', 'f']\n"
     ]
    }
   ],
   "source": [
    "var1 = input(\"隨便輸入：\")\n",
    "print(type(var1), var1)\n",
    "var2 = list(var1)\n",
    "print(var2)\n"
   ]
  },
  {
   "cell_type": "code",
   "execution_count": 38,
   "metadata": {},
   "outputs": [
    {
     "name": "stdout",
     "output_type": "stream",
     "text": [
      "0.7652676896929975\n",
      "0.7178509137620692\n",
      "0.6763496311152364\n",
      "1 4 4 3 2 4 \n",
      "\n",
      "[1, 2, 3, 4, 5, 6, 7, 8, 9, 10, 11, 12, 13, 14, 15, 16, 17, 18, 19, 20, 21, 22, 23, 24, 25, 26, 27, 28, 29, 30, 31, 32, 33, 34, 35, 36, 37, 38, 39, 40, 41, 42, 43, 44, 45, 46, 47, 48, 49] \n",
      "\n",
      "[41, 20, 34, 19, 25, 38]\n",
      "[18, 13, 26, 22, 32, 48]\n",
      "[3, 32, 4, 36, 19, 49]\n"
     ]
    }
   ],
   "source": [
    "import random\n",
    "\n",
    "for i in range(3):\n",
    "    print(random.random())\n",
    "for i in range(6):\n",
    "    print(random.randint(1, 6), end = \" \")\n",
    "print(\"\\n\")\n",
    "\n",
    "lst2 = []\n",
    "for i in range(1, 50):\n",
    "    lst2.append(i)\n",
    "print(lst2, \"\\n\")\n",
    "\n",
    "for i in range(3):\n",
    "    print(random.sample(lst2, 6))"
   ]
  }
 ],
 "metadata": {
  "kernelspec": {
   "display_name": "Python 3",
   "language": "python",
   "name": "python3"
  },
  "language_info": {
   "codemirror_mode": {
    "name": "ipython",
    "version": 3
   },
   "file_extension": ".py",
   "mimetype": "text/x-python",
   "name": "python",
   "nbconvert_exporter": "python",
   "pygments_lexer": "ipython3",
   "version": "3.7.1"
  }
 },
 "nbformat": 4,
 "nbformat_minor": 2
}
