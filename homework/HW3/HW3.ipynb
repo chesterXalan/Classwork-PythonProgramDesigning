{
 "cells": [
  {
   "cell_type": "code",
   "execution_count": null,
   "metadata": {},
   "outputs": [],
   "source": [
    "#四電二乙 3A712069 徐茂桓"
   ]
  },
  {
   "cell_type": "code",
   "execution_count": 15,
   "metadata": {},
   "outputs": [
    {
     "name": "stdout",
     "output_type": "stream",
     "text": [
      "運算結果： 2050333330\n",
      "總執行時間： 0.07399988174438477\n"
     ]
    }
   ],
   "source": [
    "import time\n",
    "\n",
    "startList = time.time()\n",
    "for x in range(1000):\n",
    "    lst, lstSum = [], 0\n",
    "    for i in range(1, 101):\n",
    "        lst.append(i)\n",
    "    for i in range(100):\n",
    "        lstSum += lst[i] ** 4\n",
    "endList = time.time()\n",
    "\n",
    "#print(lst)\n",
    "print(\"運算結果：\", lstSum)\n",
    "print(\"總執行時間：\", endList - startList)"
   ]
  },
  {
   "cell_type": "code",
   "execution_count": 14,
   "metadata": {},
   "outputs": [
    {
     "name": "stdout",
     "output_type": "stream",
     "text": [
      "運算結果： 2050333330\n",
      "總執行時間： 0.007999897003173828\n"
     ]
    }
   ],
   "source": [
    "import numpy\n",
    "\n",
    "startNumpy = time.time()\n",
    "for i in range(1000):\n",
    "    arr = numpy.arange(1, 101)\n",
    "    arrSum = numpy.sum(arr ** 4)\n",
    "endNumpy = time.time()\n",
    "\n",
    "#print(arr)\n",
    "print(\"運算結果：\", arrSum)\n",
    "print(\"總執行時間：\", endNumpy - startNumpy)"
   ]
  }
 ],
 "metadata": {
  "kernelspec": {
   "display_name": "Python 3",
   "language": "python",
   "name": "python3"
  },
  "language_info": {
   "codemirror_mode": {
    "name": "ipython",
    "version": 3
   },
   "file_extension": ".py",
   "mimetype": "text/x-python",
   "name": "python",
   "nbconvert_exporter": "python",
   "pygments_lexer": "ipython3",
   "version": "3.7.1"
  }
 },
 "nbformat": 4,
 "nbformat_minor": 2
}
