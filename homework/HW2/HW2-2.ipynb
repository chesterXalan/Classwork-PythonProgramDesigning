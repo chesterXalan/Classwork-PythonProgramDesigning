{
 "cells": [
  {
   "cell_type": "code",
   "execution_count": null,
   "metadata": {
    "scrolled": true
   },
   "outputs": [],
   "source": [
    "#四電二乙_3A712069_徐茂桓_HW2-2\n",
    "\n",
    "import random\n",
    "\n",
    "print(\"《5/39樂透》\\n\")\n",
    "\n",
    "data, check, same = [], 0, {}\n",
    "\n",
    "for i in range(1, 40):\n",
    "    data.append(i)\n",
    "lott = random.sample(data, 5)\n",
    "lott.sort()\n",
    "#print(lott)\n",
    "\n",
    "while check == 0:\n",
    "    guess = input(\"請輸入5筆不重複的整數，並以空白鍵區隔，範圍為1 ~ 39：\")\n",
    "    guess = guess.split()\n",
    "    for i in range(len(guess)):\n",
    "        guess[i] = int(guess[i])\n",
    "          \n",
    "    if len(guess) != 5:\n",
    "        print(\"資料筆數錯誤，必須是5筆，請重新輸入\\n\")\n",
    "    else:      \n",
    "        if len(set(guess)) != 5:\n",
    "            print(\"有重複的數字，請重新輸入\\n\")\n",
    "        else:\n",
    "            for i in range(5):\n",
    "                if guess[i] > 39 or guess[i] < 1:\n",
    "                    print(\"輸入的數超出範圍，請重新輸入\\n\")                  \n",
    "                    break\n",
    "                else:\n",
    "                    if i == 4:\n",
    "                        guess.sort()\n",
    "                        check = 1\n",
    "\n",
    "same = set(lott) & set(guess)\n",
    "same = list(same)\n",
    "same.sort()\n",
    "                        \n",
    "print(\"輸入號碼：\", end = \"\")\n",
    "for i in guess:\n",
    "    print(i, end = \"\\t\")\n",
    "print(end = \"\\n\")\n",
    "\n",
    "print(\"開獎號碼：\", end = \"\")\n",
    "for i in lott:\n",
    "    print(i, end = \"\\t\")\n",
    "print(end = \"\\n\")\n",
    "\n",
    "if len(same) != 0:\n",
    "    print(\"中了\", len(same), \"個號碼：\", end = \"\")\n",
    "    for i in same:\n",
    "        print(i, end = \"　\")\n",
    "else:\n",
    "    print(\"可惜，未中獎！\")"
   ]
  }
 ],
 "metadata": {
  "kernelspec": {
   "display_name": "Python 3",
   "language": "python",
   "name": "python3"
  },
  "language_info": {
   "codemirror_mode": {
    "name": "ipython",
    "version": 3
   },
   "file_extension": ".py",
   "mimetype": "text/x-python",
   "name": "python",
   "nbconvert_exporter": "python",
   "pygments_lexer": "ipython3",
   "version": "3.7.1"
  }
 },
 "nbformat": 4,
 "nbformat_minor": 2
}
