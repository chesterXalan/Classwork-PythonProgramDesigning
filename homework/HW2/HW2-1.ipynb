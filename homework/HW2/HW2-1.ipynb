{
 "cells": [
  {
   "cell_type": "code",
   "execution_count": null,
   "metadata": {},
   "outputs": [],
   "source": [
    "#四電二乙_3A712069_徐茂桓_HW2-1\n",
    "\n",
    "import random\n",
    "\n",
    "print(\"《終極密碼》\\n\")\n",
    "\n",
    "n ,r1, r2 = 1, 1, 100\n",
    "rand = random.randint(1, 100)\n",
    "#print(rand)\n",
    "\n",
    "while 1:\n",
    "    print(\"第\", n, \"次猜測\")\n",
    "    print(\"猜測範圍：\", r1, \"~\", r2)\n",
    "    guess = int(input(\"輸入猜測： \"))    \n",
    "    \n",
    "    if guess <= r2 and guess >= r1:\n",
    "        if guess < rand:\n",
    "            print(\"太小了！\\n\")\n",
    "            r1 = guess\n",
    "        elif guess > rand:\n",
    "            print(\"太大了！\\n\")\n",
    "            r2 = guess\n",
    "        else:\n",
    "            break\n",
    "    else:\n",
    "        print(\"※超出範圍※\\n\")\n",
    "        \n",
    "    n += 1\n",
    "    \n",
    "print(\"猜對了！\")"
   ]
  }
 ],
 "metadata": {
  "kernelspec": {
   "display_name": "Python 3",
   "language": "python",
   "name": "python3"
  },
  "language_info": {
   "codemirror_mode": {
    "name": "ipython",
    "version": 3
   },
   "file_extension": ".py",
   "mimetype": "text/x-python",
   "name": "python",
   "nbconvert_exporter": "python",
   "pygments_lexer": "ipython3",
   "version": "3.7.4"
  }
 },
 "nbformat": 4,
 "nbformat_minor": 2
}
